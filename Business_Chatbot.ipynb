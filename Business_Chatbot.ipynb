{
  "nbformat": 4,
  "nbformat_minor": 0,
  "metadata": {
    "colab": {
      "provenance": [],
      "authorship_tag": "ABX9TyO5CMJJe9V/foBfM5FevS8d",
      "include_colab_link": true
    },
    "kernelspec": {
      "name": "python3",
      "display_name": "Python 3"
    },
    "language_info": {
      "name": "python"
    }
  },
  "cells": [
    {
      "cell_type": "markdown",
      "metadata": {
        "id": "view-in-github",
        "colab_type": "text"
      },
      "source": [
        "<a href=\"https://colab.research.google.com/github/nithishhhhhhh/Business_Chatbot/blob/main/Business_Chatbot.ipynb\" target=\"_parent\"><img src=\"https://colab.research.google.com/assets/colab-badge.svg\" alt=\"Open In Colab\"/></a>"
      ]
    },
    {
      "cell_type": "code",
      "source": [
        "!pip install openai==0.28 pinecone-client pymupdf\n"
      ],
      "metadata": {
        "collapsed": true,
        "colab": {
          "base_uri": "https://localhost:8080/"
        },
        "id": "TrQatysStwJt",
        "outputId": "40db6f7f-6965-4855-cfa4-c7804645bd1f"
      },
      "execution_count": null,
      "outputs": [
        {
          "output_type": "stream",
          "name": "stdout",
          "text": [
            "Requirement already satisfied: openai==0.28 in /usr/local/lib/python3.10/dist-packages (0.28.0)\n",
            "Requirement already satisfied: pinecone-client in /usr/local/lib/python3.10/dist-packages (4.1.2)\n",
            "Requirement already satisfied: pymupdf in /usr/local/lib/python3.10/dist-packages (1.24.7)\n",
            "Requirement already satisfied: requests>=2.20 in /usr/local/lib/python3.10/dist-packages (from openai==0.28) (2.31.0)\n",
            "Requirement already satisfied: tqdm in /usr/local/lib/python3.10/dist-packages (from openai==0.28) (4.66.4)\n",
            "Requirement already satisfied: aiohttp in /usr/local/lib/python3.10/dist-packages (from openai==0.28) (3.9.5)\n",
            "Requirement already satisfied: certifi>=2019.11.17 in /usr/local/lib/python3.10/dist-packages (from pinecone-client) (2024.7.4)\n",
            "Requirement already satisfied: pinecone-plugin-interface<0.0.8,>=0.0.7 in /usr/local/lib/python3.10/dist-packages (from pinecone-client) (0.0.7)\n",
            "Requirement already satisfied: typing-extensions>=3.7.4 in /usr/local/lib/python3.10/dist-packages (from pinecone-client) (4.12.2)\n",
            "Requirement already satisfied: urllib3>=1.26.0 in /usr/local/lib/python3.10/dist-packages (from pinecone-client) (2.0.7)\n",
            "Requirement already satisfied: PyMuPDFb==1.24.6 in /usr/local/lib/python3.10/dist-packages (from pymupdf) (1.24.6)\n",
            "Requirement already satisfied: charset-normalizer<4,>=2 in /usr/local/lib/python3.10/dist-packages (from requests>=2.20->openai==0.28) (3.3.2)\n",
            "Requirement already satisfied: idna<4,>=2.5 in /usr/local/lib/python3.10/dist-packages (from requests>=2.20->openai==0.28) (3.7)\n",
            "Requirement already satisfied: aiosignal>=1.1.2 in /usr/local/lib/python3.10/dist-packages (from aiohttp->openai==0.28) (1.3.1)\n",
            "Requirement already satisfied: attrs>=17.3.0 in /usr/local/lib/python3.10/dist-packages (from aiohttp->openai==0.28) (23.2.0)\n",
            "Requirement already satisfied: frozenlist>=1.1.1 in /usr/local/lib/python3.10/dist-packages (from aiohttp->openai==0.28) (1.4.1)\n",
            "Requirement already satisfied: multidict<7.0,>=4.5 in /usr/local/lib/python3.10/dist-packages (from aiohttp->openai==0.28) (6.0.5)\n",
            "Requirement already satisfied: yarl<2.0,>=1.0 in /usr/local/lib/python3.10/dist-packages (from aiohttp->openai==0.28) (1.9.4)\n",
            "Requirement already satisfied: async-timeout<5.0,>=4.0 in /usr/local/lib/python3.10/dist-packages (from aiohttp->openai==0.28) (4.0.3)\n"
          ]
        }
      ]
    },
    {
      "cell_type": "code",
      "source": [
        "import openai\n",
        "import pinecone\n",
        "import os\n",
        "import fitz"
      ],
      "metadata": {
        "id": "kc4b2vVMtx3U"
      },
      "execution_count": null,
      "outputs": []
    },
    {
      "cell_type": "code",
      "source": [
        "openai.api_key = 'personal_openai_key'\n",
        "pinecone_api_key = 'pinecone_key'\n",
        "pinecone_env = 'us-east-1'"
      ],
      "metadata": {
        "id": "9iL9NNSbt5lX"
      },
      "execution_count": 37,
      "outputs": []
    },
    {
      "cell_type": "code",
      "source": [
        "client = pinecone.Pinecone(api_key=pinecone_api_key, environment=pinecone_env)\n",
        "index_name = 'businesschatbot'"
      ],
      "metadata": {
        "id": "yBAcYDect_Yo"
      },
      "execution_count": null,
      "outputs": []
    },
    {
      "cell_type": "code",
      "source": [
        "index = client.Index(index_name)"
      ],
      "metadata": {
        "id": "PKpx9iPuwePk"
      },
      "execution_count": null,
      "outputs": []
    },
    {
      "cell_type": "code",
      "source": [
        "def extract_text_from_pdf(pdf_path):\n",
        "    document = fitz.open(pdf_path)\n",
        "    text = \"\"\n",
        "    for page_num in range(len(document)):\n",
        "        page = document.load_page(page_num)\n",
        "        text += page.get_text()\n",
        "    return text"
      ],
      "metadata": {
        "id": "gKQotaPhzQU7"
      },
      "execution_count": null,
      "outputs": []
    },
    {
      "cell_type": "code",
      "source": [
        "def get_embedding(text):\n",
        "    response = openai.Embedding.create(input=[text], model=\"text-embedding-ada-002\")\n",
        "    return response['data'][0]['embedding']"
      ],
      "metadata": {
        "id": "19MeNwDczg1z"
      },
      "execution_count": null,
      "outputs": []
    },
    {
      "cell_type": "code",
      "source": [
        "pdf_directory = '/content/file'"
      ],
      "metadata": {
        "id": "c51zVVFlzk0d"
      },
      "execution_count": null,
      "outputs": []
    },
    {
      "cell_type": "code",
      "source": [
        "for more in os.listdir(pdf_directory):\n",
        "    if more.endswith('.pdf'):\n",
        "        file_path = os.path.join(pdf_directory, more)\n",
        "        document_text = extract_text_from_pdf('/content/file/More.pdf')\n",
        "        doc_id = os.path.splitext(more)[0]\n",
        "        embedding = get_embedding(document_text)\n",
        "        index.upsert([(doc_id, embedding)])\n"
      ],
      "metadata": {
        "collapsed": true,
        "id": "AMgunZtYz3Iq"
      },
      "execution_count": null,
      "outputs": []
    },
    {
      "cell_type": "markdown",
      "source": [
        "As i dont have Upgraded OpenAi Plan. I can't do embedding step."
      ],
      "metadata": {
        "id": "X2KdhnU0HsLJ"
      }
    },
    {
      "cell_type": "code",
      "source": [
        "def retrieve_documents(query, top_k=5):\n",
        "    query_embedding = get_embedding(query)\n",
        "    results = index.query(queries=[query_embedding], top_k=top_k)\n",
        "    return results['matches']"
      ],
      "metadata": {
        "id": "N-2xA8yS9w43"
      },
      "execution_count": null,
      "outputs": []
    },
    {
      "cell_type": "code",
      "source": [
        "def generate_answer(query, retrieved_docs):\n",
        "    context = \" \".join([doc[\"metadata\"][\"text\"] for doc in retrieved_docs])\n",
        "    response = openai.Completion.create(\n",
        "        engine=\"text-davinci-003\",\n",
        "        prompt=f\"Context: {context}\\n\\nQuestion: {query}\\nAnswer:\",\n",
        "        max_tokens=150\n",
        "    )\n",
        "    return response['choices'][0]['text']"
      ],
      "metadata": {
        "id": "pD6Bhla_93P3"
      },
      "execution_count": null,
      "outputs": []
    },
    {
      "cell_type": "code",
      "source": [
        "query = \"When was More founded?\"\n",
        "retrieved_docs = retrieve_documents(query)\n",
        "answer = generate_answer(query, retrieved_docs)\n",
        "print(f\"Question: {query}\")\n",
        "print(f\"Answer: {answer}\")"
      ],
      "metadata": {
        "id": "uq0j8gu1-A8k"
      },
      "execution_count": null,
      "outputs": []
    },
    {
      "cell_type": "markdown",
      "source": [
        "Question: When was More founded?\n",
        "\n",
        "\n",
        "\n",
        "\n",
        "\n",
        "\n",
        "\n",
        "\n",
        "\n",
        "\n",
        "\n",
        "\n",
        "\n",
        "\n",
        "\n",
        "\n",
        "\n",
        "\n",
        "\n",
        "\n",
        "\n",
        "\n",
        "\n",
        "\n",
        "\n",
        "\n",
        "\n",
        "\n",
        "\n",
        "\n",
        "\n",
        "\n",
        "\n",
        "\n",
        "\n",
        "\n",
        "\n",
        "Answer: 2007\n",
        "\n",
        "\n"
      ],
      "metadata": {
        "id": "bewENgDvHqIu"
      }
    }
  ]
}